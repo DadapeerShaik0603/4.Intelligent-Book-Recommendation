{
 "cells": [
  {
   "cell_type": "markdown",
   "metadata": {},
   "source": [
    "# Setting Up Requirements"
   ]
  },
  {
   "cell_type": "code",
   "execution_count": 1,
   "metadata": {},
   "outputs": [
    {
     "name": "stdout",
     "output_type": "stream",
     "text": [
      "Using device: cuda\n"
     ]
    }
   ],
   "source": [
    "import pandas as pd\n",
    "import numpy as np\n",
    "import joblib\n",
    "import torch\n",
    "from sklearn.feature_extraction.text import TfidfVectorizer\n",
    "from sklearn.cluster import KMeans\n",
    "from sklearn.metrics.pairwise import cosine_similarity\n",
    "from surprise import Dataset, Reader, SVD\n",
    "from surprise.model_selection import train_test_split\n",
    "from surprise import KNNBasic\n",
    "from sklearn.metrics import precision_score, recall_score, f1_score\n",
    "\n",
    "# ✅ Set device (use GPU if available)\n",
    "device = torch.device(\"cuda\" if torch.cuda.is_available() else \"cpu\")\n",
    "print(f\"Using device: {device}\")\n"
   ]
  },
  {
   "cell_type": "markdown",
   "metadata": {},
   "source": [
    "# Get Data"
   ]
  },
  {
   "cell_type": "code",
   "execution_count": 2,
   "metadata": {},
   "outputs": [],
   "source": [
    "\n",
    "df = pd.read_csv(\"Cleaned_audiob_adv.csv\")"
   ]
  },
  {
   "cell_type": "markdown",
   "metadata": {},
   "source": [
    "# NLP Processing "
   ]
  },
  {
   "cell_type": "code",
   "execution_count": 3,
   "metadata": {},
   "outputs": [],
   "source": [
    "# Combine relevant features for NLP processing\n",
    "df['combined_text'] = df['Book Name'] + \" \"+ df['Author'] +\" \" + df['Description'] + \" \" + df['Ranks and Genre']\n",
    "df['combined_text'] = df['combined_text'].fillna('')\n"
   ]
  },
  {
   "cell_type": "code",
   "execution_count": 4,
   "metadata": {},
   "outputs": [
    {
     "data": {
      "text/plain": [
       "['vectorizer.pkl']"
      ]
     },
     "execution_count": 4,
     "metadata": {},
     "output_type": "execute_result"
    }
   ],
   "source": [
    "vectorizer = TfidfVectorizer(stop_words=\"english\", max_features=5000)\n",
    "tfidf_matrix = vectorizer.fit_transform(df['combined_text'])\n",
    "\n",
    "# ✅ Move to Tensor & GPU\n",
    "tfidf_tensor = torch.tensor(tfidf_matrix.toarray(), dtype=torch.float32, device=device)\n",
    "\n",
    "# Save Vectorizer\n",
    "joblib.dump(vectorizer, \"vectorizer.pkl\")\n"
   ]
  },
  {
   "cell_type": "code",
   "execution_count": 5,
   "metadata": {},
   "outputs": [
    {
     "data": {
      "text/plain": [
       "['similarity_matrix.pkl']"
      ]
     },
     "execution_count": 5,
     "metadata": {},
     "output_type": "execute_result"
    }
   ],
   "source": [
    "similarity_matrix = cosine_similarity(tfidf_matrix)\n",
    "\n",
    "# ✅ Move to GPU\n",
    "similarity_matrix = torch.tensor(similarity_matrix, dtype=torch.float32, device=device)\n",
    "\n",
    "joblib.dump(similarity_matrix.cpu().numpy(), \"similarity_matrix.pkl\")\n"
   ]
  },
  {
   "cell_type": "code",
   "execution_count": 6,
   "metadata": {},
   "outputs": [
    {
     "name": "stdout",
     "output_type": "stream",
     "text": [
      "Cosine Similarity: Mean = 0.0495, Std = 0.1115\n"
     ]
    }
   ],
   "source": [
    "from sklearn.metrics.pairwise import cosine_similarity\n",
    "import numpy as np\n",
    "\n",
    "# Compute cosine similarity between documents\n",
    "cosine_sim_matrix = cosine_similarity(tfidf_matrix)\n",
    "\n",
    "# Extract upper triangle values (excluding diagonal)\n",
    "cosine_sim_values = cosine_sim_matrix[np.triu_indices_from(cosine_sim_matrix, k=1)]\n",
    "\n",
    "# Print mean and standard deviation of cosine similarity\n",
    "print(f\"Cosine Similarity: Mean = {np.mean(cosine_sim_values):.4f}, Std = {np.std(cosine_sim_values):.4f}\")\n"
   ]
  },
  {
   "cell_type": "markdown",
   "metadata": {},
   "source": [
    "# K-Means Clustering"
   ]
  },
  {
   "cell_type": "code",
   "execution_count": 6,
   "metadata": {},
   "outputs": [
    {
     "data": {
      "text/plain": [
       "['kmeans_model.pkl']"
      ]
     },
     "execution_count": 6,
     "metadata": {},
     "output_type": "execute_result"
    }
   ],
   "source": [
    "k = 10  \n",
    "kmeans = KMeans(n_clusters=k, random_state=42, n_init=10)\n",
    "df[\"cluster\"] = kmeans.fit_predict(tfidf_matrix)\n",
    "joblib.dump(kmeans, \"kmeans_model.pkl\")\n"
   ]
  },
  {
   "cell_type": "markdown",
   "metadata": {},
   "source": [
    "# KNN Model & SVD Model"
   ]
  },
  {
   "cell_type": "code",
   "execution_count": 9,
   "metadata": {},
   "outputs": [
    {
     "name": "stdout",
     "output_type": "stream",
     "text": [
      "Computing the cosine similarity matrix...\n",
      "Done computing similarity matrix.\n"
     ]
    },
    {
     "data": {
      "text/plain": [
       "['knn_model.pkl']"
      ]
     },
     "execution_count": 9,
     "metadata": {},
     "output_type": "execute_result"
    }
   ],
   "source": [
    "reader = Reader(rating_scale=(1, 5))\n",
    "ratings = pd.DataFrame({\n",
    "    'User ID': np.random.randint(1, 100, size=len(df)),  # Generate random User IDs\n",
    "    'Book Name': np.arange(len(df)),  # Unique IDs for books\n",
    "    'Rating': np.random.randint(1, 6, size=len(df))  # Ratings between 1-5\n",
    "})\n",
    "\n",
    "\n",
    "data = Dataset.load_from_df(ratings[['User ID','Book Name', 'Rating']], reader)\n",
    "trainset, testset = train_test_split(data, test_size=0.2)\n",
    "\n",
    "svd = SVD()\n",
    "svd.fit(trainset)\n",
    "joblib.dump(svd, \"svd_model.pkl\")\n",
    "\n",
    "knn = KNNBasic(sim_options={'name': 'cosine', 'user_based': True})\n",
    "knn.fit(trainset)\n",
    "joblib.dump(knn, \"knn_model.pkl\")\n"
   ]
  },
  {
   "cell_type": "markdown",
   "metadata": {},
   "source": [
    "# Improving & Evaluating Models"
   ]
  },
  {
   "cell_type": "code",
   "execution_count": 11,
   "metadata": {},
   "outputs": [
    {
     "name": "stdout",
     "output_type": "stream",
     "text": [
      "RMSE: 1.0966, MAE: 0.9353\n"
     ]
    }
   ],
   "source": [
    "from sklearn.metrics import mean_squared_error, mean_absolute_error\n",
    "import numpy as np\n",
    "\n",
    "# Convert predictions to a NumPy array\n",
    "y_pred = np.array([svd.predict(row['User ID'], row['Book Name']).est for _, row in ratings.iterrows()])\n",
    "\n",
    "# Calculate RMSE and MAE\n",
    "rmse = np.sqrt(mean_squared_error(ratings['Rating'], y_pred))\n",
    "mae = mean_absolute_error(ratings['Rating'], y_pred)\n",
    "\n",
    "print(f\"RMSE: {rmse:.4f}, MAE: {mae:.4f}\")\n"
   ]
  },
  {
   "cell_type": "code",
   "execution_count": 12,
   "metadata": {},
   "outputs": [
    {
     "name": "stdout",
     "output_type": "stream",
     "text": [
      "{'n_factors': 100, 'lr_all': 0.002, 'reg_all': 0.2}\n"
     ]
    }
   ],
   "source": [
    "from surprise import SVD\n",
    "from surprise.model_selection import GridSearchCV\n",
    "\n",
    "param_grid = {\n",
    "    'n_factors': [50, 100, 150], \n",
    "    'lr_all': [0.002, 0.005, 0.01], \n",
    "    'reg_all': [0.02, 0.1, 0.2]\n",
    "}\n",
    "gs = GridSearchCV(SVD, param_grid, measures=['rmse', 'mae'], cv=5)\n",
    "gs.fit(data)\n",
    "\n",
    "print(gs.best_params['rmse'])  # Best hyperparameters\n"
   ]
  },
  {
   "cell_type": "code",
   "execution_count": null,
   "metadata": {},
   "outputs": [
    {
     "data": {
      "text/plain": [
       "<surprise.prediction_algorithms.matrix_factorization.SVD at 0x29f3cdc15e0>"
      ]
     },
     "execution_count": 15,
     "metadata": {},
     "output_type": "execute_result"
    }
   ],
   "source": [
    "from surprise import SVD\n",
    "\n",
    "# Use the best parameters\n",
    "svd = SVD(n_factors=100, lr_all=0.002, reg_all=0.2)\n",
    "\n",
    "# Train on the full dataset\n",
    "trainset = data.build_full_trainset()\n",
    "svd.fit(trainset)\n"
   ]
  },
  {
   "cell_type": "code",
   "execution_count": 21,
   "metadata": {},
   "outputs": [
    {
     "name": "stdout",
     "output_type": "stream",
     "text": [
      "Predicted Rating: 3.22\n"
     ]
    }
   ],
   "source": [
    "user_id = 9 # Replace with actual user ID\n",
    "book_name = \"Sherlock Holmes: The Definitive Collection\"  # Replace with actual book name\n",
    "\n",
    "predicted_rating = svd.predict(user_id, book_name).est\n",
    "print(f\"Predicted Rating: {predicted_rating:.2f}\")\n"
   ]
  },
  {
   "cell_type": "code",
   "execution_count": 24,
   "metadata": {},
   "outputs": [
    {
     "name": "stdout",
     "output_type": "stream",
     "text": [
      "Precision: 0.9127, Recall: 0.8422, F1-Score: 0.8561\n"
     ]
    }
   ],
   "source": [
    "def evaluate_model(y_true, y_pred):\n",
    "    precision = precision_score(y_true, y_pred, average='weighted')\n",
    "    recall = recall_score(y_true, y_pred, average='weighted')\n",
    "    f1 = f1_score(y_true, y_pred, average='weighted')\n",
    "    return precision, recall, f1\n",
    "\n",
    "# ✅ Evaluate Using KNN Model\n",
    "y_true = ratings['Rating']\n",
    "y_pred = [knn.predict(row['User ID'], row['Book Name']).est for _, row in ratings.iterrows()]\n",
    "\n",
    "precision, recall, f1 = evaluate_model(y_true, np.round(y_pred))\n",
    "print(f\"Precision: {precision:.4f}, Recall: {recall:.4f}, F1-Score: {f1:.4f}\")\n"
   ]
  },
  {
   "cell_type": "code",
   "execution_count": 25,
   "metadata": {},
   "outputs": [
    {
     "name": "stdout",
     "output_type": "stream",
     "text": [
      "RMSE: 0.6434, MAE: 0.2436\n"
     ]
    }
   ],
   "source": [
    "from sklearn.metrics import mean_squared_error, mean_absolute_error\n",
    "import numpy as np\n",
    "\n",
    "# Convert predictions to a NumPy array\n",
    "y_pred = np.array([knn.predict(row['User ID'], row['Book Name']).est for _, row in ratings.iterrows()])\n",
    "\n",
    "# Calculate RMSE and MAE\n",
    "rmse = np.sqrt(mean_squared_error(ratings['Rating'], y_pred))\n",
    "mae = mean_absolute_error(ratings['Rating'], y_pred)\n",
    "\n",
    "print(f\"RMSE: {rmse:.4f}, MAE: {mae:.4f}\")\n"
   ]
  },
  {
   "cell_type": "code",
   "execution_count": 23,
   "metadata": {},
   "outputs": [
    {
     "name": "stdout",
     "output_type": "stream",
     "text": [
      "Predicted Rating: 3.01\n"
     ]
    }
   ],
   "source": [
    "user_id = 1 # Replace with actual user ID\n",
    "book_name = \"The Intelligent Investor Rev Ed.\"  # Replace with actual book name\n",
    "\n",
    "predicted_rating = knn.predict(user_id, book_name).est\n",
    "print(f\"Predicted Rating: {predicted_rating:.2f}\")\n"
   ]
  },
  {
   "cell_type": "code",
   "execution_count": 64,
   "metadata": {},
   "outputs": [
    {
     "name": "stdout",
     "output_type": "stream",
     "text": [
      "✅ All models trained, evaluated, and saved successfully \n"
     ]
    }
   ],
   "source": [
    "df.to_csv(\"processed_books.csv\", index=False)\n",
    "print(\"✅ All models trained, evaluated, and saved successfully \")\n"
   ]
  },
  {
   "cell_type": "code",
   "execution_count": 34,
   "metadata": {},
   "outputs": [
    {
     "name": "stdout",
     "output_type": "stream",
     "text": [
      "Content-Based Model - Avg RMSE: 0.4277, Avg MAE: 0.3309, Avg F1 Score: 0.9942\n",
      "Clustering-Based Model - Avg RMSE: 0.4284, Avg MAE: 0.3297, Avg F1 Score: 0.9923\n",
      "Hybrid Model - Avg RMSE: 0.4037, Avg MAE: 0.3152, Avg F1 Score: 0.9966\n"
     ]
    }
   ],
   "source": [
    "import joblib\n",
    "import pandas as pd\n",
    "import numpy as np\n",
    "from sklearn.metrics import mean_squared_error, mean_absolute_error, f1_score\n",
    "\n",
    "# Load models and data\n",
    "vectorizer = joblib.load(\"vectorizer.pkl\")\n",
    "similarity_matrix = joblib.load(\"similarity_matrix.pkl\")\n",
    "kmeans = joblib.load(\"kmeans_model.pkl\")\n",
    "svd = joblib.load(\"svd_model.pkl\")\n",
    "processed_books = pd.read_csv(\"processed_books.csv\")\n",
    "\n",
    "# Ensure the 'cluster' column exists in the processed_books dataframe\n",
    "if 'cluster' not in processed_books.columns:\n",
    "    processed_books['cluster'] = kmeans.predict(vectorizer.transform(processed_books['Book Name']))\n",
    "\n",
    "def recommend_content_based(book_title, min_rating=0, num_recommendations=5):\n",
    "    if book_title not in processed_books['Book Name'].values:\n",
    "        raise ValueError(f\"Book '{book_title}' not found in the dataset.\")\n",
    "    idx = processed_books[processed_books['Book Name'] == book_title].index[0]\n",
    "    sim_scores = list(enumerate(similarity_matrix[idx]))\n",
    "    sim_scores = sorted(sim_scores, key=lambda x: x[1], reverse=True)\n",
    "    filtered_books = processed_books.iloc[[i[0] for i in sim_scores]][['Book Name', 'Author', 'Rating']]\n",
    "    return filtered_books[filtered_books['Rating'] >= min_rating].head(num_recommendations)\n",
    "\n",
    "def recommend_clustering(book_title, min_rating=0, num_recommendations=5):\n",
    "    if book_title not in processed_books['Book Name'].values:\n",
    "        raise ValueError(f\"Book '{book_title}' not found in the dataset.\")\n",
    "    idx = processed_books[processed_books['Book Name'] == book_title].index[0]\n",
    "    cluster_label = processed_books.iloc[idx]['cluster']\n",
    "    cluster_books = processed_books[processed_books['cluster'] == cluster_label]\n",
    "    return cluster_books[cluster_books['Rating'] >= min_rating].sample(min(num_recommendations, len(cluster_books)))[['Book Name', 'Author', 'Rating']]\n",
    "\n",
    "def recommend_hybrid(book_title, min_rating=0, num_recommendations=5):\n",
    "    content_recs = recommend_content_based(book_title, min_rating, num_recommendations * 2)\n",
    "    clustering_recs = recommend_clustering(book_title, min_rating, num_recommendations * 2)\n",
    "    hybrid_recs = pd.concat([content_recs, clustering_recs]).drop_duplicates().nlargest(num_recommendations, 'Rating')\n",
    "    return hybrid_recs\n",
    "\n",
    "def evaluate_model(recommendations, ground_truth):\n",
    "    predicted_ratings = recommendations['Rating']\n",
    "    true_ratings = ground_truth['Rating']\n",
    "    rmse = np.sqrt(mean_squared_error(true_ratings, predicted_ratings))\n",
    "    mae = mean_absolute_error(true_ratings, predicted_ratings)\n",
    "    \n",
    "    # Converting ratings to binary for F1 score\n",
    "    predicted_binary = predicted_ratings >= 3.0  # Example threshold\n",
    "    true_binary = true_ratings >= 3.0\n",
    "    f1 = f1_score(true_binary, predicted_binary)\n",
    "    \n",
    "    return rmse, mae, f1\n",
    "\n",
    "# Initialize lists to store evaluation metrics\n",
    "content_metrics = []\n",
    "clustering_metrics = []\n",
    "hybrid_metrics = []\n",
    "\n",
    "# Loop through each book in the dataset\n",
    "for book_title in processed_books['Book Name'].unique():\n",
    "    try:\n",
    "        # Get recommendations for each model\n",
    "        content_based_recs = recommend_content_based(book_title)\n",
    "        cluster_based_recs = recommend_clustering(book_title)\n",
    "        hybrid_recs = recommend_hybrid(book_title)\n",
    "        \n",
    "        # Simulate ground truth for evaluation (replace with actual ground truth)\n",
    "        ground_truth = processed_books.sample(len(content_based_recs))\n",
    "        \n",
    "        # Evaluate Content-Based Model\n",
    "        content_metrics.append(evaluate_model(content_based_recs, ground_truth))\n",
    "        \n",
    "        # Evaluate Clustering-Based Model\n",
    "        clustering_metrics.append(evaluate_model(cluster_based_recs, ground_truth))\n",
    "        \n",
    "        # Evaluate Hybrid Model\n",
    "        hybrid_metrics.append(evaluate_model(hybrid_recs, ground_truth))\n",
    "    \n",
    "    except ValueError as e:\n",
    "        print(e)\n",
    "\n",
    "# Calculate average metrics for each model\n",
    "def calculate_average_metrics(metrics):\n",
    "    metrics = np.array(metrics)\n",
    "    return np.mean(metrics, axis=0)\n",
    "\n",
    "content_avg_metrics = calculate_average_metrics(content_metrics)\n",
    "clustering_avg_metrics = calculate_average_metrics(clustering_metrics)\n",
    "hybrid_avg_metrics = calculate_average_metrics(hybrid_metrics)\n",
    "\n",
    "print(f\"Content-Based Model - Avg RMSE: {content_avg_metrics[0]:.4f}, Avg MAE: {content_avg_metrics[1]:.4f}, Avg F1 Score: {content_avg_metrics[2]:.4f}\")\n",
    "print(f\"Clustering-Based Model - Avg RMSE: {clustering_avg_metrics[0]:.4f}, Avg MAE: {clustering_avg_metrics[1]:.4f}, Avg F1 Score: {clustering_avg_metrics[2]:.4f}\")\n",
    "print(f\"Hybrid Model - Avg RMSE: {hybrid_avg_metrics[0]:.4f}, Avg MAE: {hybrid_avg_metrics[1]:.4f}, Avg F1 Score: {hybrid_avg_metrics[2]:.4f}\")\n"
   ]
  }
 ],
 "metadata": {
  "kernelspec": {
   "display_name": "Python 3",
   "language": "python",
   "name": "python3"
  },
  "language_info": {
   "codemirror_mode": {
    "name": "ipython",
    "version": 3
   },
   "file_extension": ".py",
   "mimetype": "text/x-python",
   "name": "python",
   "nbconvert_exporter": "python",
   "pygments_lexer": "ipython3",
   "version": "3.12.8"
  }
 },
 "nbformat": 4,
 "nbformat_minor": 2
}
