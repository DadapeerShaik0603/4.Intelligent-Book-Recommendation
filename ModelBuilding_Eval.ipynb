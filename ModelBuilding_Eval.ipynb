{
 "cells": [
  {
   "cell_type": "code",
   "execution_count": 1,
   "metadata": {},
   "outputs": [
    {
     "name": "stdout",
     "output_type": "stream",
     "text": [
      "Using device: cuda\n"
     ]
    }
   ],
   "source": [
    "import pandas as pd\n",
    "import numpy as np\n",
    "import joblib\n",
    "import torch\n",
    "import torch.nn as nn\n",
    "import torch.optim as optim\n",
    "from torch.utils.data import DataLoader, TensorDataset\n",
    "import nltk\n",
    "from sklearn.feature_extraction.text import TfidfVectorizer\n",
    "from sklearn.cluster import KMeans, DBSCAN, AgglomerativeClustering\n",
    "from sklearn.metrics.pairwise import cosine_similarity\n",
    "from surprise import Dataset, Reader, SVD\n",
    "from surprise.model_selection import train_test_split\n",
    "from surprise import KNNBasic\n",
    "from sklearn.metrics import precision_score, recall_score, f1_score\n",
    "\n",
    "# ✅ Set device (use GPU if available)\n",
    "device = torch.device(\"cuda\" if torch.cuda.is_available() else \"cpu\")\n",
    "print(f\"Using device: {device}\")\n"
   ]
  },
  {
   "cell_type": "code",
   "execution_count": 41,
   "metadata": {},
   "outputs": [],
   "source": [
    "\n",
    "df = pd.read_csv(\"Cleaned_audiob_adv.csv\")"
   ]
  },
  {
   "cell_type": "code",
   "execution_count": 42,
   "metadata": {},
   "outputs": [
    {
     "data": {
      "text/html": [
       "<div>\n",
       "<style scoped>\n",
       "    .dataframe tbody tr th:only-of-type {\n",
       "        vertical-align: middle;\n",
       "    }\n",
       "\n",
       "    .dataframe tbody tr th {\n",
       "        vertical-align: top;\n",
       "    }\n",
       "\n",
       "    .dataframe thead th {\n",
       "        text-align: right;\n",
       "    }\n",
       "</style>\n",
       "<table border=\"1\" class=\"dataframe\">\n",
       "  <thead>\n",
       "    <tr style=\"text-align: right;\">\n",
       "      <th></th>\n",
       "      <th>Book Name</th>\n",
       "      <th>Author</th>\n",
       "      <th>Rating</th>\n",
       "      <th>Number_of_Reviews</th>\n",
       "      <th>Price</th>\n",
       "      <th>Description</th>\n",
       "      <th>Listening Time</th>\n",
       "      <th>Ranks and Genre</th>\n",
       "      <th>Time</th>\n",
       "    </tr>\n",
       "  </thead>\n",
       "  <tbody>\n",
       "    <tr>\n",
       "      <th>0</th>\n",
       "      <td>Think Like a Monk: The Secret of How to Harnes...</td>\n",
       "      <td>Jay Shetty</td>\n",
       "      <td>4.9</td>\n",
       "      <td>371.0</td>\n",
       "      <td>10080.0</td>\n",
       "      <td>Over the past three years, Jay Shetty has beco...</td>\n",
       "      <td>10 hours and 54 minutes</td>\n",
       "      <td>,#1 in Audible Audiobooks &amp; Originals (See Top...</td>\n",
       "      <td>654.0</td>\n",
       "    </tr>\n",
       "    <tr>\n",
       "      <th>1</th>\n",
       "      <td>Ikigai: The Japanese Secret to a Long and Happ...</td>\n",
       "      <td>Héctor García</td>\n",
       "      <td>4.6</td>\n",
       "      <td>3682.0</td>\n",
       "      <td>615.0</td>\n",
       "      <td>Brought to you by Penguin.</td>\n",
       "      <td>3 hours and 23 minutes</td>\n",
       "      <td>,#2 in Audible Audiobooks &amp; Originals (See Top...</td>\n",
       "      <td>203.0</td>\n",
       "    </tr>\n",
       "    <tr>\n",
       "      <th>2</th>\n",
       "      <td>The Subtle Art of Not Giving a F*ck: A Counter...</td>\n",
       "      <td>Mark Manson</td>\n",
       "      <td>4.4</td>\n",
       "      <td>20306.0</td>\n",
       "      <td>10378.0</td>\n",
       "      <td>In this generation-defining self-help guide, a...</td>\n",
       "      <td>5 hours and 17 minutes</td>\n",
       "      <td>,#3 in Audible Audiobooks &amp; Originals (See Top...</td>\n",
       "      <td>317.0</td>\n",
       "    </tr>\n",
       "    <tr>\n",
       "      <th>3</th>\n",
       "      <td>Atomic Habits: An Easy and Proven Way to Build...</td>\n",
       "      <td>James Clear</td>\n",
       "      <td>4.6</td>\n",
       "      <td>4678.0</td>\n",
       "      <td>888.0</td>\n",
       "      <td>Brought to you by Penguin.</td>\n",
       "      <td>5 hours and 35 minutes</td>\n",
       "      <td>,#5 in Audible Audiobooks &amp; Originals (See Top...</td>\n",
       "      <td>335.0</td>\n",
       "    </tr>\n",
       "    <tr>\n",
       "      <th>4</th>\n",
       "      <td>Life's Amazing Secrets: How to Find Balance an...</td>\n",
       "      <td>Gaur Gopal Das</td>\n",
       "      <td>4.6</td>\n",
       "      <td>4308.0</td>\n",
       "      <td>1005.0</td>\n",
       "      <td>Stop going through life,  Start growing throug...</td>\n",
       "      <td>6 hours and 25 minutes</td>\n",
       "      <td>,#6 in Audible Audiobooks &amp; Originals (See Top...</td>\n",
       "      <td>385.0</td>\n",
       "    </tr>\n",
       "    <tr>\n",
       "      <th>...</th>\n",
       "      <td>...</td>\n",
       "      <td>...</td>\n",
       "      <td>...</td>\n",
       "      <td>...</td>\n",
       "      <td>...</td>\n",
       "      <td>...</td>\n",
       "      <td>...</td>\n",
       "      <td>...</td>\n",
       "      <td>...</td>\n",
       "    </tr>\n",
       "    <tr>\n",
       "      <th>4038</th>\n",
       "      <td>Factfulness: Wie wir lernen, die Welt so zu se...</td>\n",
       "      <td>Hans Rosling</td>\n",
       "      <td>4.6</td>\n",
       "      <td>72.0</td>\n",
       "      <td>703.0</td>\n",
       "      <td>Sorry, we just need to make sure you're not a ...</td>\n",
       "      <td>-1</td>\n",
       "      <td>-1</td>\n",
       "      <td>10.0</td>\n",
       "    </tr>\n",
       "    <tr>\n",
       "      <th>4039</th>\n",
       "      <td>Late-Talking Children: A Symptom or a Stage?</td>\n",
       "      <td>Stephen M. Camarata</td>\n",
       "      <td>4.6</td>\n",
       "      <td>92.0</td>\n",
       "      <td>703.0</td>\n",
       "      <td>Sorry, we just need to make sure you're not a ...</td>\n",
       "      <td>-1</td>\n",
       "      <td>-1</td>\n",
       "      <td>10.0</td>\n",
       "    </tr>\n",
       "    <tr>\n",
       "      <th>4040</th>\n",
       "      <td>The Marketing of Evil: How Radicals, Elitists ...</td>\n",
       "      <td>David Kupelian</td>\n",
       "      <td>4.7</td>\n",
       "      <td>490.0</td>\n",
       "      <td>586.0</td>\n",
       "      <td>Americans have come to tolerate, embrace, and ...</td>\n",
       "      <td>-1</td>\n",
       "      <td>-1</td>\n",
       "      <td>10.0</td>\n",
       "    </tr>\n",
       "    <tr>\n",
       "      <th>4041</th>\n",
       "      <td>Things I Wish I'd Known Before We Got Married</td>\n",
       "      <td>Gary Chapman</td>\n",
       "      <td>4.7</td>\n",
       "      <td>1388.0</td>\n",
       "      <td>516.0</td>\n",
       "      <td>\\n\\nOops!\\nIt's rush hour and traffic is pilin...</td>\n",
       "      <td>-1</td>\n",
       "      <td>-1</td>\n",
       "      <td>10.0</td>\n",
       "    </tr>\n",
       "    <tr>\n",
       "      <th>4042</th>\n",
       "      <td>The Disease Delusion: Conquering the Causes of...</td>\n",
       "      <td>Dr. Jeffrey S. Bland</td>\n",
       "      <td>4.7</td>\n",
       "      <td>259.0</td>\n",
       "      <td>12356.0</td>\n",
       "      <td>Disease care vs health care: Which would you c...</td>\n",
       "      <td>-1</td>\n",
       "      <td>-1</td>\n",
       "      <td>10.0</td>\n",
       "    </tr>\n",
       "  </tbody>\n",
       "</table>\n",
       "<p>4043 rows × 9 columns</p>\n",
       "</div>"
      ],
      "text/plain": [
       "                                              Book Name                Author  \\\n",
       "0     Think Like a Monk: The Secret of How to Harnes...            Jay Shetty   \n",
       "1     Ikigai: The Japanese Secret to a Long and Happ...         Héctor García   \n",
       "2     The Subtle Art of Not Giving a F*ck: A Counter...           Mark Manson   \n",
       "3     Atomic Habits: An Easy and Proven Way to Build...           James Clear   \n",
       "4     Life's Amazing Secrets: How to Find Balance an...        Gaur Gopal Das   \n",
       "...                                                 ...                   ...   \n",
       "4038  Factfulness: Wie wir lernen, die Welt so zu se...          Hans Rosling   \n",
       "4039       Late-Talking Children: A Symptom or a Stage?   Stephen M. Camarata   \n",
       "4040  The Marketing of Evil: How Radicals, Elitists ...        David Kupelian   \n",
       "4041      Things I Wish I'd Known Before We Got Married          Gary Chapman   \n",
       "4042  The Disease Delusion: Conquering the Causes of...  Dr. Jeffrey S. Bland   \n",
       "\n",
       "      Rating  Number_of_Reviews    Price  \\\n",
       "0        4.9              371.0  10080.0   \n",
       "1        4.6             3682.0    615.0   \n",
       "2        4.4            20306.0  10378.0   \n",
       "3        4.6             4678.0    888.0   \n",
       "4        4.6             4308.0   1005.0   \n",
       "...      ...                ...      ...   \n",
       "4038     4.6               72.0    703.0   \n",
       "4039     4.6               92.0    703.0   \n",
       "4040     4.7              490.0    586.0   \n",
       "4041     4.7             1388.0    516.0   \n",
       "4042     4.7              259.0  12356.0   \n",
       "\n",
       "                                            Description  \\\n",
       "0     Over the past three years, Jay Shetty has beco...   \n",
       "1                            Brought to you by Penguin.   \n",
       "2     In this generation-defining self-help guide, a...   \n",
       "3                            Brought to you by Penguin.   \n",
       "4     Stop going through life,  Start growing throug...   \n",
       "...                                                 ...   \n",
       "4038  Sorry, we just need to make sure you're not a ...   \n",
       "4039  Sorry, we just need to make sure you're not a ...   \n",
       "4040  Americans have come to tolerate, embrace, and ...   \n",
       "4041  \\n\\nOops!\\nIt's rush hour and traffic is pilin...   \n",
       "4042  Disease care vs health care: Which would you c...   \n",
       "\n",
       "               Listening Time  \\\n",
       "0     10 hours and 54 minutes   \n",
       "1      3 hours and 23 minutes   \n",
       "2      5 hours and 17 minutes   \n",
       "3      5 hours and 35 minutes   \n",
       "4      6 hours and 25 minutes   \n",
       "...                       ...   \n",
       "4038                       -1   \n",
       "4039                       -1   \n",
       "4040                       -1   \n",
       "4041                       -1   \n",
       "4042                       -1   \n",
       "\n",
       "                                        Ranks and Genre   Time  \n",
       "0     ,#1 in Audible Audiobooks & Originals (See Top...  654.0  \n",
       "1     ,#2 in Audible Audiobooks & Originals (See Top...  203.0  \n",
       "2     ,#3 in Audible Audiobooks & Originals (See Top...  317.0  \n",
       "3     ,#5 in Audible Audiobooks & Originals (See Top...  335.0  \n",
       "4     ,#6 in Audible Audiobooks & Originals (See Top...  385.0  \n",
       "...                                                 ...    ...  \n",
       "4038                                                 -1   10.0  \n",
       "4039                                                 -1   10.0  \n",
       "4040                                                 -1   10.0  \n",
       "4041                                                 -1   10.0  \n",
       "4042                                                 -1   10.0  \n",
       "\n",
       "[4043 rows x 9 columns]"
      ]
     },
     "execution_count": 42,
     "metadata": {},
     "output_type": "execute_result"
    }
   ],
   "source": [
    "df"
   ]
  },
  {
   "cell_type": "code",
   "execution_count": 18,
   "metadata": {},
   "outputs": [],
   "source": [
    "# Combine relevant features for NLP processing\n",
    "df['combined_text'] = df['Book Name'] + \" \" + df['Description'] + \" \" + df['Ranks and Genre']\n",
    "df['combined_text'] = df['combined_text'].fillna('')\n"
   ]
  },
  {
   "cell_type": "code",
   "execution_count": 19,
   "metadata": {},
   "outputs": [
    {
     "data": {
      "text/plain": [
       "['vectorizer.pkl']"
      ]
     },
     "execution_count": 19,
     "metadata": {},
     "output_type": "execute_result"
    }
   ],
   "source": [
    "vectorizer = TfidfVectorizer(stop_words=\"english\", max_features=5000)\n",
    "tfidf_matrix = vectorizer.fit_transform(df['combined_text'])\n",
    "\n",
    "# ✅ Move to Tensor & GPU\n",
    "tfidf_tensor = torch.tensor(tfidf_matrix.toarray(), dtype=torch.float32, device=device)\n",
    "\n",
    "# Save Vectorizer\n",
    "joblib.dump(vectorizer, \"vectorizer.pkl\")\n",
    "\n",
    "\n",
    "from sklearn.metrics import accuracy_score, precision_score, recall_score, f1_score, mean_squared_error, r2_score\n",
    "\n",
    "# Classification Metrics (modify based on the model's actual outputs)\n",
    "if 'y_test' in locals() and 'y_pred' in locals():\n",
    "    print(\"Accuracy:\", accuracy_score(y_test, y_pred))\n",
    "    print(\"Precision:\", precision_score(y_test, y_pred, average='weighted'))\n",
    "    print(\"Recall:\", recall_score(y_test, y_pred, average='weighted'))\n",
    "    print(\"F1 Score:\", f1_score(y_test, y_pred, average='weighted'))\n",
    "\n",
    "# Regression Metrics (modify based on the model's actual outputs)\n",
    "if 'y_test' in locals() and 'y_pred' in locals():\n",
    "    print(\"Mean Squared Error:\", mean_squared_error(y_test, y_pred))\n",
    "    print(\"R-squared:\", r2_score(y_test, y_pred))\n"
   ]
  },
  {
   "cell_type": "code",
   "execution_count": 20,
   "metadata": {},
   "outputs": [
    {
     "data": {
      "text/plain": [
       "['similarity_matrix.pkl']"
      ]
     },
     "execution_count": 20,
     "metadata": {},
     "output_type": "execute_result"
    }
   ],
   "source": [
    "similarity_matrix = cosine_similarity(tfidf_matrix)\n",
    "\n",
    "# ✅ Move to GPU\n",
    "similarity_matrix = torch.tensor(similarity_matrix, dtype=torch.float32, device=device)\n",
    "\n",
    "joblib.dump(similarity_matrix.cpu().numpy(), \"similarity_matrix.pkl\")\n"
   ]
  },
  {
   "cell_type": "code",
   "execution_count": 21,
   "metadata": {},
   "outputs": [
    {
     "data": {
      "text/plain": [
       "['agglo_model.pkl']"
      ]
     },
     "execution_count": 21,
     "metadata": {},
     "output_type": "execute_result"
    }
   ],
   "source": [
    "k = 10  \n",
    "kmeans = KMeans(n_clusters=k, random_state=42, n_init=10)\n",
    "df[\"cluster\"] = kmeans.fit_predict(tfidf_matrix)\n",
    "joblib.dump(kmeans, \"kmeans_model.pkl\")\n",
    "\n",
    "dbscan = DBSCAN(eps=0.5, min_samples=5).fit(tfidf_matrix)\n",
    "df[\"dbscan_cluster\"] = dbscan.labels_\n",
    "\n",
    "agglo = AgglomerativeClustering(n_clusters=10).fit(tfidf_matrix.toarray())\n",
    "df[\"agglo_cluster\"] = agglo.labels_\n",
    "\n",
    "joblib.dump(dbscan, \"dbscan_model.pkl\")\n",
    "joblib.dump(agglo, \"agglo_model.pkl\")\n",
    "\n",
    "\n",
    "from sklearn.metrics import accuracy_score, precision_score, recall_score, f1_score, mean_squared_error, r2_score\n",
    "\n",
    "# Classification Metrics (modify based on the model's actual outputs)\n",
    "if 'y_test' in locals() and 'y_pred' in locals():\n",
    "    print(\"Accuracy:\", accuracy_score(y_test, y_pred))\n",
    "    print(\"Precision:\", precision_score(y_test, y_pred, average='weighted'))\n",
    "    print(\"Recall:\", recall_score(y_test, y_pred, average='weighted'))\n",
    "    print(\"F1 Score:\", f1_score(y_test, y_pred, average='weighted'))\n",
    "\n",
    "# Regression Metrics (modify based on the model's actual outputs)\n",
    "if 'y_test' in locals() and 'y_pred' in locals():\n",
    "    print(\"Mean Squared Error:\", mean_squared_error(y_test, y_pred))\n",
    "    print(\"R-squared:\", r2_score(y_test, y_pred))\n"
   ]
  },
  {
   "cell_type": "code",
   "execution_count": 26,
   "metadata": {},
   "outputs": [
    {
     "name": "stdout",
     "output_type": "stream",
     "text": [
      "Computing the cosine similarity matrix...\n",
      "Done computing similarity matrix.\n"
     ]
    },
    {
     "data": {
      "text/plain": [
       "['knn_model.pkl']"
      ]
     },
     "execution_count": 26,
     "metadata": {},
     "output_type": "execute_result"
    }
   ],
   "source": [
    "reader = Reader(rating_scale=(1, 5))\n",
    "ratings = pd.DataFrame({\n",
    "    'User ID': np.random.randint(1, 100, size=len(df)),  # Generate random User IDs\n",
    "    'Book Name': np.arange(len(df)),  # Unique IDs for books\n",
    "    'Rating': np.random.randint(1, 6, size=len(df))  # Ratings between 1-5\n",
    "})\n",
    "\n",
    "\n",
    "data = Dataset.load_from_df(ratings[['User ID','Book Name', 'Rating']], reader)\n",
    "trainset, testset = train_test_split(data, test_size=0.2)\n",
    "\n",
    "svd = SVD()\n",
    "svd.fit(trainset)\n",
    "joblib.dump(svd, \"svd_model.pkl\")\n",
    "\n",
    "knn = KNNBasic(sim_options={'name': 'cosine', 'user_based': True})\n",
    "knn.fit(trainset)\n",
    "joblib.dump(knn, \"knn_model.pkl\")\n",
    "\n",
    "\n",
    "from sklearn.metrics import accuracy_score, precision_score, recall_score, f1_score, mean_squared_error, r2_score\n",
    "\n",
    "# Classification Metrics (modify based on the model's actual outputs)\n",
    "if 'y_test' in locals() and 'y_pred' in locals():\n",
    "    print(\"Accuracy:\", accuracy_score(y_test, y_pred))\n",
    "    print(\"Precision:\", precision_score(y_test, y_pred, average='weighted'))\n",
    "    print(\"Recall:\", recall_score(y_test, y_pred, average='weighted'))\n",
    "    print(\"F1 Score:\", f1_score(y_test, y_pred, average='weighted'))\n",
    "\n",
    "# Regression Metrics (modify based on the model's actual outputs)\n",
    "if 'y_test' in locals() and 'y_pred' in locals():\n",
    "    print(\"Mean Squared Error:\", mean_squared_error(y_test, y_pred))\n",
    "    print(\"R-squared:\", r2_score(y_test, y_pred))\n"
   ]
  },
  {
   "cell_type": "code",
   "execution_count": 43,
   "metadata": {},
   "outputs": [
    {
     "name": "stdout",
     "output_type": "stream",
     "text": [
      "Precision: 0.1360, Recall: 0.2592, F1-Score: 0.1590\n"
     ]
    },
    {
     "name": "stderr",
     "output_type": "stream",
     "text": [
      "c:\\Users\\peer1\\AppData\\Local\\Programs\\Python\\Python312\\Lib\\site-packages\\sklearn\\metrics\\_classification.py:1565: UndefinedMetricWarning: Precision is ill-defined and being set to 0.0 in labels with no predicted samples. Use `zero_division` parameter to control this behavior.\n",
      "  _warn_prf(average, modifier, f\"{metric.capitalize()} is\", len(result))\n"
     ]
    }
   ],
   "source": [
    "def evaluate_model(y_true, y_pred):\n",
    "    precision = precision_score(y_true, y_pred, average='weighted')\n",
    "    recall = recall_score(y_true, y_pred, average='weighted')\n",
    "    f1 = f1_score(y_true, y_pred, average='weighted')\n",
    "    return precision, recall, f1\n",
    "\n",
    "# ✅ Evaluate Using SVD Model\n",
    "y_true = ratings['Rating']\n",
    "y_pred = [svd.predict(row['User ID'], row['Book Name']).est for _, row in ratings.iterrows()]\n",
    "\n",
    "precision, recall, f1 = evaluate_model(y_true, np.round(y_pred))\n",
    "print(f\"Precision: {precision:.4f}, Recall: {recall:.4f}, F1-Score: {f1:.4f}\")\n",
    "\n",
    "\n",
    "from sklearn.metrics import accuracy_score, precision_score, recall_score, f1_score, mean_squared_error, r2_score\n",
    "\n",
    "# Classification Metrics (modify based on the model's actual outputs)\n",
    "if 'y_test' in locals() and 'y_pred' in locals():\n",
    "    print(\"Accuracy:\", accuracy_score(y_test, y_pred))\n",
    "    print(\"Precision:\", precision_score(y_test, y_pred, average='weighted'))\n",
    "    print(\"Recall:\", recall_score(y_test, y_pred, average='weighted'))\n",
    "    print(\"F1 Score:\", f1_score(y_test, y_pred, average='weighted'))\n",
    "\n",
    "# Regression Metrics (modify based on the model's actual outputs)\n",
    "if 'y_test' in locals() and 'y_pred' in locals():\n",
    "    print(\"Mean Squared Error:\", mean_squared_error(y_test, y_pred))\n",
    "    print(\"R-squared:\", r2_score(y_test, y_pred))\n"
   ]
  },
  {
   "cell_type": "code",
   "execution_count": 37,
   "metadata": {},
   "outputs": [
    {
     "name": "stdout",
     "output_type": "stream",
     "text": [
      "Precision: 0.9103, Recall: 0.8380, F1-Score: 0.8521\n"
     ]
    }
   ],
   "source": [
    "def evaluate_model(y_true, y_pred):\n",
    "    precision = precision_score(y_true, y_pred, average='weighted')\n",
    "    recall = recall_score(y_true, y_pred, average='weighted')\n",
    "    f1 = f1_score(y_true, y_pred, average='weighted')\n",
    "    return precision, recall, f1\n",
    "\n",
    "# ✅ Evaluate Using SVD Model\n",
    "y_true = ratings['Rating']\n",
    "y_pred = [knn.predict(row['User ID'], row['Book Name']).est for _, row in ratings.iterrows()]\n",
    "\n",
    "precision, recall, f1 = evaluate_model(y_true, np.round(y_pred))\n",
    "print(f\"Precision: {precision:.4f}, Recall: {recall:.4f}, F1-Score: {f1:.4f}\")\n",
    "\n",
    "\n",
    "from sklearn.metrics import accuracy_score, precision_score, recall_score, f1_score, mean_squared_error, r2_score\n",
    "\n",
    "# Classification Metrics (modify based on the model's actual outputs)\n",
    "if 'y_test' in locals() and 'y_pred' in locals():\n",
    "    print(\"Accuracy:\", accuracy_score(y_test, y_pred))\n",
    "    print(\"Precision:\", precision_score(y_test, y_pred, average='weighted'))\n",
    "    print(\"Recall:\", recall_score(y_test, y_pred, average='weighted'))\n",
    "    print(\"F1 Score:\", f1_score(y_test, y_pred, average='weighted'))\n",
    "\n",
    "# Regression Metrics (modify based on the model's actual outputs)\n",
    "if 'y_test' in locals() and 'y_pred' in locals():\n",
    "    print(\"Mean Squared Error:\", mean_squared_error(y_test, y_pred))\n",
    "    print(\"R-squared:\", r2_score(y_test, y_pred))\n"
   ]
  },
  {
   "cell_type": "code",
   "execution_count": 32,
   "metadata": {},
   "outputs": [
    {
     "name": "stdout",
     "output_type": "stream",
     "text": [
      "✅ All models trained, evaluated, and saved successfully on GPU!\n"
     ]
    }
   ],
   "source": [
    "df.to_csv(\"processed_books.csv\", index=False)\n",
    "print(\"✅ All models trained, evaluated, and saved successfully on GPU!\")\n"
   ]
  },
  {
   "cell_type": "code",
   "execution_count": 3,
   "metadata": {},
   "outputs": [],
   "source": [
    "df = pd.read_csv(\"processed_books.csv\")"
   ]
  }
 ],
 "metadata": {
  "kernelspec": {
   "display_name": "Python 3",
   "language": "python",
   "name": "python3"
  },
  "language_info": {
   "codemirror_mode": {
    "name": "ipython",
    "version": 3
   },
   "file_extension": ".py",
   "mimetype": "text/x-python",
   "name": "python",
   "nbconvert_exporter": "python",
   "pygments_lexer": "ipython3",
   "version": "3.12.8"
  }
 },
 "nbformat": 4,
 "nbformat_minor": 2
}
